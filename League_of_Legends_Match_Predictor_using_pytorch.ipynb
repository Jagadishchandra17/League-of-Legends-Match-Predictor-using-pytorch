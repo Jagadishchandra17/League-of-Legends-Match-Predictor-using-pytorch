{
  "nbformat": 4,
  "nbformat_minor": 0,
  "metadata": {
    "colab": {
      "provenance": [],
      "authorship_tag": "ABX9TyNtNveklC+4r2AxBzwCfD+X",
      "include_colab_link": true
    },
    "kernelspec": {
      "name": "python3",
      "display_name": "Python 3"
    },
    "language_info": {
      "name": "python"
    }
  },
  "cells": [
    {
      "cell_type": "markdown",
      "metadata": {
        "id": "view-in-github",
        "colab_type": "text"
      },
      "source": [
        "<a href=\"https://colab.research.google.com/github/Jagadishchandra17/League-of-Legends-Match-Predictor-using-pytorch/blob/main/League_of_Legends_Match_Predictor_using_pytorch.ipynb\" target=\"_parent\"><img src=\"https://colab.research.google.com/assets/colab-badge.svg\" alt=\"Open In Colab\"/></a>"
      ]
    },
    {
      "cell_type": "markdown",
      "source": [
        "# **League of Legends Match Predictor using Pytorch**"
      ],
      "metadata": {
        "id": "rhbCki1GQUD_"
      }
    },
    {
      "cell_type": "markdown",
      "source": [
        "\n",
        "League of Legends, a popular multiplayer online battle arena (MOBA) game, generates extensive data from matches, providing an excellent opportunity to apply machine learning techniques to real-world scenarios.\n",
        "\n",
        "we would be building a logistic regression model aimed at predicting the outcomes of League of Legends matches. and we would be using  the [league_of_legends_data_large.csv](https://cf-courses-data.s3.us.cloud-object-storage.appdomain.cloud/rk7VDaPjMp1h5VXS-cUyMg/league-of-legends-data-large.csv) file to perform the analysis."
      ],
      "metadata": {
        "id": "p9wx4eTbRA25"
      }
    },
    {
      "cell_type": "markdown",
      "source": [
        "## Data Loading and Preprocessing"
      ],
      "metadata": {
        "id": "0o2yDQezRdy2"
      }
    },
    {
      "cell_type": "markdown",
      "source": [
        "Loading and preprocessing the dataset involves reading the data, splitting it into training and testing sets, and standardizing the features. You will utilize `pandas` for data manipulation, `train_test_split` from `sklearn` for data splitting, and `StandardScaler` for feature scaling."
      ],
      "metadata": {
        "id": "HyhjpUryRmJM"
      }
    },
    {
      "cell_type": "markdown",
      "source": [
        "we first load the League of Legends dataset into a pandas DataFrame using pd.read_csv(). Subsequently, we delineate the features (X) and the target variable (y), where 'win' serves as our target, and the remaining columns constitute the features. To ensure robust model training and evaluation, we partition the data into training and testing sets using train_test_split(), allocating 20% of the data for testing and employing a random_state of 42 for consistent results. Given the varying scales of our features, we standardize them using StandardScaler() to facilitate optimal model performance. Finally, we transform the scaled features and target variable into PyTorch tensors using torch.tensor(), preparing them for subsequent model training and evaluation."
      ],
      "metadata": {
        "id": "wVJivILlR2NP"
      }
    },
    {
      "cell_type": "code",
      "execution_count": null,
      "metadata": {
        "id": "bMGedphoQQ_b"
      },
      "outputs": [],
      "source": [
        "## Write your code here\n",
        "import pandas as pd\n",
        "import torch\n",
        "from sklearn.model_selection import train_test_split\n",
        "from sklearn.preprocessing import StandardScaler\n",
        "\n",
        "# Load the dataset\n",
        "data = pd.read_csv(\"league_of_legends_data_large.csv\")\n",
        "\n",
        "# Split data into features and target\n",
        "X = data.drop(\"win\", axis=1)\n",
        "y = data[\"win\"]\n",
        "\n",
        "# Split into training and testing sets\n",
        "X_train, X_test, y_train, y_test = train_test_split(\n",
        "    X, y, test_size=0.2, random_state=42\n",
        ")\n",
        "\n",
        "# Standardize the features\n",
        "scaler = StandardScaler()\n",
        "X_train_scaled = scaler.fit_transform(X_train)\n",
        "X_test_scaled = scaler.transform(X_test)\n",
        "\n",
        "# Convert to PyTorch tensors\n",
        "X_train_tensor = torch.tensor(X_train_scaled, dtype=torch.float32)\n",
        "X_test_tensor = torch.tensor(X_test_scaled, dtype=torch.float32)\n",
        "y_train_tensor = torch.tensor(y_train.values, dtype=torch.float32).view(-1, 1)\n",
        "y_test_tensor = torch.tensor(y_test.values, dtype=torch.float32).view(-1, 1)\n"
      ]
    },
    {
      "cell_type": "markdown",
      "source": [
        " let's construct our logistic regression model using PyTorch. We begin by defining a class, LogisticRegressionModel, which inherits from torch.nn.Module. Within this class, we initialize a linear layer in the __init__() method, effectively setting up the core of our logistic regression. The forward() method then applies the sigmoid activation function to the output of this linear layer, ensuring our predictions are within the probability range of 0 to 1. To prepare for training, we determine the input dimension, input_dim, directly from the shape of our training features, X_train.shape[1]. We then instantiate our model, passing this input_dim. For optimization, we select Binary Cross-Entropy Loss (BCELoss()) as our loss function, suitable for binary classification tasks, and Stochastic Gradient Descent (optim.SGD()) with a learning rate of 0.01 as our optimizer, enabling efficient model parameter updates."
      ],
      "metadata": {
        "id": "MCuY-IC4aqu7"
      }
    },
    {
      "cell_type": "code",
      "source": [
        "## Write your code here\n",
        "\n",
        "import torch.nn as nn\n",
        "import torch.optim as optim\n",
        "\n",
        "# Define the Logistic Regression Model\n",
        "class LogisticRegressionModel(nn.Module):\n",
        "    def __init__(self, input_dim):\n",
        "        super(LogisticRegressionModel, self).__init__()\n",
        "        self.linear = nn.Linear(input_dim, 1)\n",
        "\n",
        "    def forward(self, x):\n",
        "        return torch.sigmoid(self.linear(x))\n",
        "\n",
        "# Set input dimension\n",
        "input_dim = X_train_tensor.shape[1]\n",
        "\n",
        "# Initialize the model\n",
        "model = LogisticRegressionModel(input_dim)\n",
        "\n",
        "# Define the loss function\n",
        "criterion = nn.BCELoss()\n",
        "\n",
        "# Initialize the optimizer\n",
        "optimizer = optim.SGD(model.parameters(), lr=0.01)\n",
        "\n",
        "\n",
        "\n"
      ],
      "metadata": {
        "id": "r_An6pIaR9VU"
      },
      "execution_count": null,
      "outputs": []
    },
    {
      "cell_type": "markdown",
      "source": [
        "we will execute the training regimen for our logistic regression model across 1000 epochs, aiming to optimize its predictive accuracy. Each epoch will commence with the model transitioning to training mode, ensuring the activation of gradient computation for parameter updates. Subsequently, the optimizer's gradients will be reset, and the training dataset will be propagated through the model to generate predictions. The discrepancy between predicted and actual outcomes, quantified by the Binary Cross-Entropy Loss, will inform the backpropagation process, enabling the computation of gradients for parameter adjustment. The optimizer will then utilize these gradients to update the model's weights, iteratively minimizing the loss function. To monitor the training progress, the loss will be logged at intervals of 100 epochs. Upon completion of the training phase, the model will be transitioned to evaluation mode, disabling gradient computation. Predictions will be generated for both the training and test datasets. Finally, the model's accuracy on both datasets will be computed, employing a classification threshold of 0.5, and the results will be presented to assess the model's performance and generalization capabilities."
      ],
      "metadata": {
        "id": "UpOCduN1ji32"
      }
    },
    {
      "cell_type": "code",
      "source": [
        "# Write your code here\n",
        "# Set number of epochs\n",
        "num_epochs = 1000\n",
        "\n",
        "# Training loop\n",
        "for epoch in range(num_epochs):\n",
        "    model.train()  # Set model to training mode\n",
        "\n",
        "    # Forward pass\n",
        "    outputs = model(X_train_tensor)\n",
        "    loss = criterion(outputs, y_train_tensor)\n",
        "\n",
        "    # Backward pass and optimization\n",
        "    optimizer.zero_grad()\n",
        "    loss.backward()\n",
        "    optimizer.step()\n",
        "\n",
        "    # Print loss every 100 epochs\n",
        "    if (epoch + 1) % 100 == 0:\n",
        "        print(f\"Epoch [{epoch + 1}/{num_epochs}], Loss: {loss.item():.4f}\")\n",
        "\n",
        "# Model evaluation\n",
        "model.eval()  # Set model to evaluation mode\n",
        "with torch.no_grad():\n",
        "    # Predictions\n",
        "    train_preds = model(X_train_tensor)\n",
        "    test_preds = model(X_test_tensor)\n",
        "\n",
        "    # Apply threshold of 0.5\n",
        "    train_predicted = (train_preds > 0.5).float()\n",
        "    test_predicted = (test_preds > 0.5).float()\n",
        "\n",
        "    # Calculate accuracy\n",
        "    train_accuracy = (train_predicted == y_train_tensor).float().mean()\n",
        "    test_accuracy = (test_predicted == y_test_tensor).float().mean()\n",
        "\n",
        "    print(f\"Training Accuracy: {train_accuracy.item() * 100:.2f}%\")\n",
        "    print(f\"Testing Accuracy: {test_accuracy.item() * 100:.2f}%\")\n",
        "\n",
        "\n"
      ],
      "metadata": {
        "colab": {
          "base_uri": "https://localhost:8080/"
        },
        "id": "hXCZi5ALazGF",
        "outputId": "7deacff7-070d-40a2-9b66-293b45cbc88b"
      },
      "execution_count": null,
      "outputs": [
        {
          "output_type": "stream",
          "name": "stdout",
          "text": [
            "Epoch [100/1000], Loss: 0.7201\n",
            "Epoch [200/1000], Loss: 0.7069\n",
            "Epoch [300/1000], Loss: 0.6986\n",
            "Epoch [400/1000], Loss: 0.6934\n",
            "Epoch [500/1000], Loss: 0.6903\n",
            "Epoch [600/1000], Loss: 0.6883\n",
            "Epoch [700/1000], Loss: 0.6872\n",
            "Epoch [800/1000], Loss: 0.6864\n",
            "Epoch [900/1000], Loss: 0.6860\n",
            "Epoch [1000/1000], Loss: 0.6857\n",
            "Training Accuracy: 54.00%\n",
            "Testing Accuracy: 52.00%\n"
          ]
        }
      ]
    },
    {
      "cell_type": "markdown",
      "source": [
        "In an effort to enhance the model's generalization capabilities and mitigate overfitting, we will incorporate L2 regularization, also known as Ridge Regression, into our training procedure. This optimization technique penalizes large weight values, promoting simpler and more robust model solutions. Specifically, we will modify the optimizer to include the weight_decay parameter, effectively applying L2 regularization during the training process. For instance, we will instantiate the optimizer using optim.SGD(model.parameters(), lr=0.01, weight_decay=0.01), where weight_decay=0.01 specifies the regularization strength. Subsequently, we will retrain the model for 1000 epochs, utilizing this modified optimizer with L2 regularization. Upon completion of training, we will rigorously evaluate the model's performance on both the training and test datasets. Accuracy will be computed by comparing the model's predicted outcomes to the actual labels (y_train and y_test), employing a classification threshold of 0.5 to determine win or loss. Finally, we will present the training and test accuracies, providing a comprehensive assessment of the model's performance and the impact of L2 regularization."
      ],
      "metadata": {
        "id": "JZbF2n7fj7oK"
      }
    },
    {
      "cell_type": "code",
      "source": [
        "# Reinitialize the model\n",
        "model = LogisticRegressionModel(input_dim)\n",
        "\n",
        "# Define the loss function\n",
        "criterion = nn.BCELoss()\n",
        "\n",
        "# Initialize the optimizer with L2 regularization (weight decay)\n",
        "optimizer = optim.SGD(model.parameters(), lr=0.01, weight_decay=0.01)\n",
        "\n",
        "# Number of epochs\n",
        "num_epochs = 1000\n",
        "\n",
        "# Training loop with L2 regularization\n",
        "for epoch in range(num_epochs):\n",
        "    model.train()\n",
        "\n",
        "    # Forward pass\n",
        "    outputs = model(X_train_tensor)\n",
        "    loss = criterion(outputs, y_train_tensor)\n",
        "\n",
        "    # Backward and optimize\n",
        "    optimizer.zero_grad()\n",
        "    loss.backward()\n",
        "    optimizer.step()\n",
        "\n",
        "    # Print loss every 100 epochs\n",
        "    if (epoch + 1) % 100 == 0:\n",
        "        print(f\"Epoch [{epoch + 1}/{num_epochs}], Loss: {loss.item():.4f}\")\n",
        "\n",
        "# Evaluate the model after training\n",
        "model.eval()\n",
        "with torch.no_grad():\n",
        "    # Predictions\n",
        "    train_preds = model(X_train_tensor)\n",
        "    test_preds = model(X_test_tensor)\n",
        "\n",
        "    # Apply threshold of 0.5\n",
        "    train_predicted = (train_preds > 0.5).float()\n",
        "    test_predicted = (test_preds > 0.5).float()\n",
        "\n",
        "    # Accuracy calculation\n",
        "    train_accuracy = (train_predicted == y_train_tensor).float().mean()\n",
        "    test_accuracy = (test_predicted == y_test_tensor).float().mean()\n",
        "\n",
        "    print(f\"Training Accuracy with L2 Regularization: {train_accuracy.item() * 100:.2f}%\")\n",
        "    print(f\"Testing Accuracy with L2 Regularization: {test_accuracy.item() * 100:.2f}%\")\n"
      ],
      "metadata": {
        "colab": {
          "base_uri": "https://localhost:8080/"
        },
        "id": "RRdCDNPFjl8t",
        "outputId": "8f7bde91-0ae3-4bb5-8209-715108f4d87c"
      },
      "execution_count": null,
      "outputs": [
        {
          "output_type": "stream",
          "name": "stdout",
          "text": [
            "Epoch [100/1000], Loss: 0.7345\n",
            "Epoch [200/1000], Loss: 0.7135\n",
            "Epoch [300/1000], Loss: 0.7014\n",
            "Epoch [400/1000], Loss: 0.6945\n",
            "Epoch [500/1000], Loss: 0.6905\n",
            "Epoch [600/1000], Loss: 0.6883\n",
            "Epoch [700/1000], Loss: 0.6870\n",
            "Epoch [800/1000], Loss: 0.6863\n",
            "Epoch [900/1000], Loss: 0.6859\n",
            "Epoch [1000/1000], Loss: 0.6856\n",
            "Training Accuracy with L2 Regularization: 54.87%\n",
            "Testing Accuracy with L2 Regularization: 51.50%\n"
          ]
        }
      ]
    },
    {
      "cell_type": "markdown",
      "source": [
        "## Visualization"
      ],
      "metadata": {
        "id": "YNcaQnxGkkyZ"
      }
    },
    {
      "cell_type": "markdown",
      "source": [
        " we will utilize visualization tools such as confusion matrices and ROC curves, which provide insights into classification accuracy and the trade-off between sensitivity and specificity. Additionally, we will calculate the AUC to quantify the overall quality of the binary classification, and generate a classification report to summarize various performance metrics. These tools will enable us to thoroughly assess the model's effectiveness and identify areas for potential improvement."
      ],
      "metadata": {
        "id": "2Hfup-Vmkg1y"
      }
    },
    {
      "cell_type": "code",
      "source": [
        "## Write your code here\n",
        "\n",
        "import matplotlib.pyplot as plt\n",
        "from sklearn.metrics import (\n",
        "    confusion_matrix,\n",
        "    ConfusionMatrixDisplay,\n",
        "    classification_report,\n",
        "    roc_curve,\n",
        "    auc\n",
        ")\n",
        "\n",
        "# Reinitialize model with L2 regularization\n",
        "model = LogisticRegressionModel(input_dim)\n",
        "criterion = nn.BCELoss()\n",
        "optimizer = optim.SGD(model.parameters(), lr=0.01, weight_decay=0.01)\n",
        "\n",
        "# Train the model\n",
        "num_epochs = 1000\n",
        "for epoch in range(num_epochs):\n",
        "    model.train()\n",
        "    outputs = model(X_train_tensor)\n",
        "    loss = criterion(outputs, y_train_tensor)\n",
        "\n",
        "    optimizer.zero_grad()\n",
        "    loss.backward()\n",
        "    optimizer.step()\n",
        "\n",
        "# Evaluate model\n",
        "model.eval()\n",
        "with torch.no_grad():\n",
        "    y_train_probs = model(X_train_tensor)\n",
        "    y_test_probs = model(X_test_tensor)\n",
        "\n",
        "    y_train_pred = (y_train_probs > 0.5).float()\n",
        "    y_test_pred = (y_test_probs > 0.5).float()\n",
        "\n",
        "# Convert tensors to NumPy arrays for sklearn metrics\n",
        "y_test_np = y_test_tensor.numpy()\n",
        "y_test_pred_np = y_test_pred.numpy()\n",
        "y_test_probs_np = y_test_probs.numpy()\n",
        "\n",
        "# Confusion Matrix\n",
        "cm = confusion_matrix(y_test_np, y_test_pred_np)\n",
        "disp = ConfusionMatrixDisplay(confusion_matrix=cm, display_labels=[0, 1])\n",
        "disp.plot(cmap=plt.cm.Blues)\n",
        "plt.title(\"Confusion Matrix\")\n",
        "plt.show()\n",
        "\n",
        "\n"
      ],
      "metadata": {
        "colab": {
          "base_uri": "https://localhost:8080/",
          "height": 472
        },
        "id": "Yilr5xe0kO9o",
        "outputId": "3c7e0d0c-eb63-4318-d87e-132a251f1154"
      },
      "execution_count": null,
      "outputs": [
        {
          "output_type": "display_data",
          "data": {
            "text/plain": [
              "<Figure size 640x480 with 2 Axes>"
            ],
            "image/png": "[encoded data removed]"
          },
          "metadata": {}
        }
      ]
    },
    {
      "cell_type": "code",
      "source": [
        "# Classification Report\n",
        "print(\"Classification Report:\\n\")\n",
        "print(classification_report(y_test_np, y_test_pred_np))"
      ],
      "metadata": {
        "colab": {
          "base_uri": "https://localhost:8080/"
        },
        "id": "56Hbi43uqgVz",
        "outputId": "34e5a569-c165-435b-9b2d-435acd0e65f0"
      },
      "execution_count": null,
      "outputs": [
        {
          "output_type": "stream",
          "name": "stdout",
          "text": [
            "Classification Report:\n",
            "\n",
            "              precision    recall  f1-score   support\n",
            "\n",
            "         0.0       0.48      0.45      0.47        95\n",
            "         1.0       0.53      0.56      0.55       105\n",
            "\n",
            "    accuracy                           0.51       200\n",
            "   macro avg       0.51      0.51      0.51       200\n",
            "weighted avg       0.51      0.51      0.51       200\n",
            "\n"
          ]
        }
      ]
    },
    {
      "cell_type": "code",
      "source": [
        "# ROC Curve and AUC\n",
        "fpr, tpr, _ = roc_curve(y_test_np, y_test_probs_np)\n",
        "roc_auc = auc(fpr, tpr)\n",
        "\n",
        "plt.figure()\n",
        "plt.plot(fpr, tpr, color='darkorange', lw=2, label=f'ROC Curve (AUC = {roc_auc:.2f})')\n",
        "plt.plot([0, 1], [0, 1], color='navy', lw=2, linestyle='--')\n",
        "plt.xlabel(\"False Positive Rate\")\n",
        "plt.ylabel(\"True Positive Rate\")\n",
        "plt.title(\"Receiver Operating Characteristic (ROC) Curve\")\n",
        "plt.legend(loc=\"lower right\")\n",
        "plt.grid(True)\n",
        "plt.show()"
      ],
      "metadata": {
        "colab": {
          "base_uri": "https://localhost:8080/",
          "height": 472
        },
        "id": "hRsRxPWqrxJq",
        "outputId": "8e450976-44c6-4af4-af02-3dbf427406a8"
      },
      "execution_count": null,
      "outputs": [
        {
          "output_type": "display_data",
          "data": {
            "text/plain": [
              "<Figure size 640x480 with 1 Axes>"
            ],
            "image/png": "[encoded data removed]"
          },
          "metadata": {}
        }
      ]
    },
    {
      "cell_type": "markdown",
      "source": [
        "we will save its learned parameters, specifically the state_dict, using torch.save(). This approach is preferred due to its flexibility and efficiency compared to saving the entire model object. Subsequently, to demonstrate the model's persistence, we will instantiate a new model object and load the saved parameters using torch.load() and model.load_state_dict(). Finally, we will rigorously evaluate the loaded model on the test dataset, ensuring it maintains its performance integrity. This evaluation will be conducted in evaluation mode (model.eval()) with gradient computation disabled (torch.no_grad()), confirming the successful preservation and restoration of the model's predictive capabilities."
      ],
      "metadata": {
        "id": "eSEEu8QBwP68"
      }
    },
    {
      "cell_type": "code",
      "source": [
        "torch.save(model.state_dict(), 'lol_logistic_model.pth')\n",
        "# Create a new instance of the model\n",
        "loaded_model = LogisticRegressionModel(input_dim)\n",
        "# Load the model\n",
        "loaded_model.load_state_dict(torch.load('lol_logistic_model.pth'))\n",
        "\n",
        "# Set the model to evaluation mode\n",
        "loaded_model.eval()\n",
        "\n",
        "# Evaluate the loaded model on test data\n",
        "with torch.no_grad():\n",
        "    y_test_probs_loaded = loaded_model(X_test_tensor)\n",
        "    y_test_pred_loaded = (y_test_probs_loaded > 0.5).float()\n",
        "\n",
        "# Convert predictions to numpy for evaluation\n",
        "y_test_pred_loaded_np = y_test_pred_loaded.numpy()\n",
        "y_test_true_np = y_test_tensor.numpy()\n",
        "\n",
        "# Evaluate Accuracy\n",
        "from sklearn.metrics import accuracy_score\n",
        "\n",
        "loaded_model_accuracy = accuracy_score(y_test_true_np, y_test_pred_loaded_np)\n",
        "print(f\"Accuracy of the loaded model on test set: {loaded_model_accuracy:.4f}\")\n"
      ],
      "metadata": {
        "colab": {
          "base_uri": "https://localhost:8080/"
        },
        "id": "3K75V0XysHpK",
        "outputId": "265101af-ab66-4de6-de2e-282922f17c65"
      },
      "execution_count": null,
      "outputs": [
        {
          "output_type": "stream",
          "name": "stdout",
          "text": [
            "Accuracy of the loaded model on test set: 0.5100\n"
          ]
        }
      ]
    },
    {
      "cell_type": "markdown",
      "source": [
        "## Hyperparameter Tuning"
      ],
      "metadata": {
        "id": "uzNHF9HWwv6u"
      }
    },
    {
      "cell_type": "markdown",
      "source": [
        "we will conduct hyperparameter tuning focusing on the learning rate, a critical factor in the training process. We will evaluate a range of learning rates, specifically [0.01, 0.05, 0.1], to identify the optimal value that maximizes test accuracy. For each learning rate, we will reinitialize the model and optimizer, ensuring a clean slate for each training iteration, as the optimizer's parameters are inherently linked to the learning rate. Subsequently, we will train the model for a fixed number of epochs, 50 or 100, for each learning rate and record the corresponding test accuracy. Upon completion of training for all specified learning rates, we will compare the resulting test accuracies and report the learning rate that yields the highest performance, thereby fine-tuning our model for enhanced predictive capabilities."
      ],
      "metadata": {
        "id": "IhL2PYTGw1IL"
      }
    },
    {
      "cell_type": "code",
      "source": [
        "#Learning_rates to test\n",
        "learning_rates = [0.01, 0.05, 0.1]\n",
        "\n",
        "# Store results for each learning rate\n",
        "test_accuracies = []\n",
        "\n",
        "# Loop through each learning rate\n",
        "for lr in learning_rates:\n",
        "    # Reinitialize the model\n",
        "    model = LogisticRegressionModel(input_dim)\n",
        "\n",
        "    # Reinitialize the optimizer with the current learning rate\n",
        "    optimizer = optim.SGD(model.parameters(), lr=lr, weight_decay=0.01)\n",
        "\n",
        "    # Train the model for a fixed number of epochs\n",
        "    for epoch in range(100):  # You can change this to 50 if preferred\n",
        "        model.train()  # Set model to training mode\n",
        "        optimizer.zero_grad()  # Zero the gradients\n",
        "\n",
        "        # Forward pass\n",
        "        y_train_probs = model(X_train_tensor)\n",
        "        y_train_pred = (y_train_probs > 0.5).float()\n",
        "\n",
        "        # Compute the loss\n",
        "        # The target tensor should have the same shape as the output of the model\n",
        "        loss = criterion(y_train_probs, y_train_tensor) # Remove squeeze() from y_train_probs\n",
        "\n",
        "        # Backpropagation\n",
        "        loss.backward()\n",
        "\n",
        "        # Update weights\n",
        "        optimizer.step()\n",
        "\n",
        "    # Evaluate on test data\n",
        "    model.eval()  # Set model to evaluation mode\n",
        "    with torch.no_grad():\n",
        "        y_test_probs = model(X_test_tensor)\n",
        "        y_test_pred = (y_test_probs > 0.5).float()\n",
        "\n",
        "    # Convert predictions to numpy for accuracy calculation\n",
        "    y_test_pred_np = y_test_pred.numpy()\n",
        "    y_test_true_np = y_test_tensor.numpy()\n",
        "\n",
        "    # Compute accuracy\n",
        "    from sklearn.metrics import accuracy_score\n",
        "    test_accuracy = accuracy_score(y_test_true_np, y_test_pred_np)\n",
        "\n",
        "    # Append the test accuracy for this learning rate\n",
        "    test_accuracies.append(test_accuracy)\n",
        "    print(f\"Test accuracy for learning rate {lr}: {test_accuracy:.4f}\")\n",
        "\n",
        "# Find the best learning rate based on test accuracy\n",
        "best_lr = learning_rates[test_accuracies.index(max(test_accuracies))]\n",
        "print(f\"\\nBest learning rate: {best_lr}\")"
      ],
      "metadata": {
        "colab": {
          "base_uri": "https://localhost:8080/"
        },
        "id": "NYIUBYNhwu8i",
        "outputId": "575c0c81-7cb6-47e5-dfdd-0a430fe5d628"
      },
      "execution_count": null,
      "outputs": [
        {
          "output_type": "stream",
          "name": "stdout",
          "text": [
            "Test accuracy for learning rate 0.01: 0.4800\n",
            "Test accuracy for learning rate 0.05: 0.5300\n",
            "Test accuracy for learning rate 0.1: 0.5250\n",
            "\n",
            "Best learning rate: 0.05\n"
          ]
        }
      ]
    },
    {
      "cell_type": "markdown",
      "source": [
        "## Feature Importance"
      ],
      "metadata": {
        "id": "rNsLcH63HOj9"
      }
    },
    {
      "cell_type": "code",
      "source": [
        "# Evaluate Feature Importance\n",
        "# 1. Extracting Model Weights\n",
        "weights = model.linear.weight.data.numpy().flatten()\n",
        "\n",
        "# 2. Creating a DataFrame\n",
        "features = X.columns\n",
        "feature_importance = pd.DataFrame({'Feature': features, 'Importance': weights})\n",
        "\n",
        "# 3. Sorting and Plotting Feature Importance\n",
        "feature_importance = feature_importance.sort_values(by='Importance', key=abs, ascending=False) #sort by absolute value.\n",
        "\n",
        "print(feature_importance)\n",
        "\n",
        "plt.figure(figsize=(10, 6))\n",
        "plt.bar(feature_importance['Feature'], feature_importance['Importance'])\n",
        "plt.xlabel('Features')\n",
        "plt.ylabel('Importance')\n",
        "plt.title('Feature Importance')\n",
        "plt.xticks(rotation=45, ha='right') #rotate x ticks and align right\n",
        "plt.tight_layout() #avoid overlapping labels\n",
        "plt.show()\n",
        "\n"
      ],
      "metadata": {
        "colab": {
          "base_uri": "https://localhost:8080/",
          "height": 763
        },
        "id": "K2s3bAwZ0e0C",
        "outputId": "7fb2adfc-8d6d-44b5-d53d-bef1deb04080"
      },
      "execution_count": null,
      "outputs": [
        {
          "output_type": "stream",
          "name": "stdout",
          "text": [
            "        Feature  Importance\n",
            "0         kills    0.138901\n",
            "3   gold_earned    0.130658\n",
            "5  wards_placed    0.101084\n",
            "7  damage_dealt   -0.034408\n",
            "4            cs   -0.016522\n",
            "6  wards_killed   -0.004247\n",
            "2       assists    0.004096\n",
            "1        deaths    0.002224\n"
          ]
        },
        {
          "output_type": "display_data",
          "data": {
            "text/plain": [
              "<Figure size 1000x600 with 1 Axes>"
            ],
            "image/png": "[encoded data removed]"
          },
          "metadata": {}
        }
      ]
    },
    {
      "cell_type": "code",
      "source": [],
      "metadata": {
        "id": "Pu-3KyeIHQlw"
      },
      "execution_count": null,
      "outputs": []
    }
  ]
}